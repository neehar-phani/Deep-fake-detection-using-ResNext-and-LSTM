{
  "nbformat": 4,
  "nbformat_minor": 0,
  "metadata": {
    "colab": {
      "provenance": []
    },
    "kernelspec": {
      "name": "python3",
      "display_name": "Python 3"
    },
    "accelerator": "GPU"
  },
  "cells": [
    {
      "cell_type": "code",
      "metadata": {
        "id": "_M_hIl_-C6P8",
        "colab": {
          "base_uri": "https://localhost:8080/"
        },
        "outputId": "ae59d12d-2be1-4702-c540-399d93957fda"
      },
      "source": [
        "#before running this please change the RUNTIME to GPU (Runtime -> Change runtime type -> set harware accelarotor as GPU)\n",
        "#Mount our google drive\n",
        "from google.colab import drive\n",
        "drive.mount('/content/drive')"
      ],
      "execution_count": null,
      "outputs": [
        {
          "output_type": "stream",
          "name": "stdout",
          "text": [
            "Mounted at /content/drive\n"
          ]
        }
      ]
    },
    {
      "cell_type": "markdown",
      "metadata": {
        "id": "mneMgm9j7ack"
      },
      "source": [
        "Note : Use the drive link for the processed dataset"
      ]
    },
    {
      "cell_type": "code",
      "metadata": {
        "id": "tnFgwZBYCyYR"
      },
      "source": [
        "#Note : only needed when you have to download the processed data to the environment\n",
        "#download and unzip the data from google drive Colab environment\n",
        "from google_drive_downloader import GoogleDriveDownloader as gdd\n",
        "#use only file id of the link\n",
        "#Note: Below link is just an example, Not an actual link. Actual Links are in ReadMe file\n",
        "#https://drive.google.com/file/d/1ubvKLzBDe5i1acxgGUK6ObeNBYCKUS07/view?usp=sharing\n",
        "url = '1ubvKLzBDe5i1acxgGUK6ObeNBYCKUS07'\n",
        "gdd.download_file_from_google_drive(file_id = url,dest_path='./data.zip',unzip=True)\n"
      ],
      "execution_count": null,
      "outputs": []
    },
    {
      "cell_type": "code",
      "metadata": {
        "id": "7hlPaQS4e5VI",
        "colab": {
          "base_uri": "https://localhost:8080/"
        },
        "outputId": "203ad8d7-e061-495d-8968-50a275763b72"
      },
      "source": [
        "!pip3 install face_recognition"
      ],
      "execution_count": null,
      "outputs": [
        {
          "output_type": "stream",
          "name": "stdout",
          "text": [
            "Collecting face_recognition\n",
            "  Downloading face_recognition-1.3.0-py2.py3-none-any.whl (15 kB)\n",
            "Collecting face-recognition-models>=0.3.0 (from face_recognition)\n",
            "  Downloading face_recognition_models-0.3.0.tar.gz (100.1 MB)\n",
            "\u001b[2K     \u001b[90m━━━━━━━━━━━━━━━━━━━━━━━━━━━━━━━━━━━━━━━━\u001b[0m \u001b[32m100.1/100.1 MB\u001b[0m \u001b[31m7.3 MB/s\u001b[0m eta \u001b[36m0:00:00\u001b[0m\n",
            "\u001b[?25h  Preparing metadata (setup.py) ... \u001b[?25l\u001b[?25hdone\n",
            "Requirement already satisfied: Click>=6.0 in /usr/local/lib/python3.10/dist-packages (from face_recognition) (8.1.7)\n",
            "Requirement already satisfied: dlib>=19.7 in /usr/local/lib/python3.10/dist-packages (from face_recognition) (19.24.2)\n",
            "Requirement already satisfied: numpy in /usr/local/lib/python3.10/dist-packages (from face_recognition) (1.25.2)\n",
            "Requirement already satisfied: Pillow in /usr/local/lib/python3.10/dist-packages (from face_recognition) (9.4.0)\n",
            "Building wheels for collected packages: face-recognition-models\n",
            "  Building wheel for face-recognition-models (setup.py) ... \u001b[?25l\u001b[?25hdone\n",
            "  Created wheel for face-recognition-models: filename=face_recognition_models-0.3.0-py2.py3-none-any.whl size=100566170 sha256=e41b68673f538ad7fec8e33ebcaab9308328297fdb349e52a3ea09d82591e098\n",
            "  Stored in directory: /root/.cache/pip/wheels/7a/eb/cf/e9eced74122b679557f597bb7c8e4c739cfcac526db1fd523d\n",
            "Successfully built face-recognition-models\n",
            "Installing collected packages: face-recognition-models, face_recognition\n",
            "Successfully installed face-recognition-models-0.3.0 face_recognition-1.3.0\n"
          ]
        }
      ]
    },
    {
      "cell_type": "code",
      "metadata": {
        "id": "QZ22Sj8d0JoT",
        "colab": {
          "base_uri": "https://localhost:8080/"
        },
        "outputId": "36ce615c-3834-4daa-d1d4-555a4e2ab84f"
      },
      "source": [
        "#THis code is to check if the video is corrupted or not..\n",
        "#If the video is corrupted delete the video.\n",
        "import glob\n",
        "import torch\n",
        "import torchvision\n",
        "from torchvision import transforms\n",
        "from torch.utils.data import DataLoader\n",
        "from torch.utils.data.dataset import Dataset\n",
        "import os\n",
        "import numpy as np\n",
        "import cv2\n",
        "import matplotlib.pyplot as plt\n",
        "import face_recognition\n",
        "#Check if the file is corrupted or not\n",
        "def validate_video(vid_path,train_transforms):\n",
        "      transform = train_transforms\n",
        "      count = 20\n",
        "      video_path = vid_path\n",
        "      frames = []\n",
        "      a = int(100/count)\n",
        "      first_frame = np.random.randint(0,a)\n",
        "      temp_video = video_path.split('/')[-1]\n",
        "      for i,frame in enumerate(frame_extract(video_path)):\n",
        "        frames.append(transform(frame))\n",
        "        if(len(frames) == count):\n",
        "          break\n",
        "      frames = torch.stack(frames)\n",
        "      frames = frames[:count]\n",
        "      return frames\n",
        "#extract a from from video\n",
        "def frame_extract(path):\n",
        "  vidObj = cv2.VideoCapture(path)\n",
        "  success = 1\n",
        "  while success:\n",
        "      success, image = vidObj.read()\n",
        "      if success:\n",
        "          yield image\n",
        "\n",
        "im_size = 112\n",
        "mean = [0.485, 0.456, 0.406]\n",
        "std = [0.229, 0.224, 0.225]\n",
        "\n",
        "train_transforms = transforms.Compose([\n",
        "                                        transforms.ToPILImage(),\n",
        "                                        transforms.Resize((im_size,im_size)),\n",
        "                                        transforms.ToTensor(),\n",
        "                                        transforms.Normalize(mean,std)])\n",
        "video_fil =  glob.glob('/content/drive/My Drive/Face_only_data/*.mp4')\n",
        "print(\"Total no of videos :\" , len(video_fil))\n",
        "print(video_fil)\n",
        "count = 0;\n",
        "for i in video_fil:\n",
        "  try:\n",
        "    count+=1\n",
        "    validate_video(i,train_transforms)\n",
        "  except:\n",
        "    print(\"Number of video processed: \" , count ,\" Remaining : \" , (len(video_fil) - count))\n",
        "    print(\"Corrupted video is : \" , i)\n",
        "    continue\n",
        "print((len(video_fil) - count))"
      ],
      "execution_count": null,
      "outputs": [
        {
          "output_type": "stream",
          "name": "stdout",
          "text": [
            "Total no of videos : 18\n",
            "['/content/drive/My Drive/Face_only_data/adwbthsgqb.mp4', '/content/drive/My Drive/Face_only_data/abebnhqyzv.mp4', '/content/drive/My Drive/Face_only_data/abxtkdjyru.mp4', '/content/drive/My Drive/Face_only_data/acljesxipy.mp4', '/content/drive/My Drive/Face_only_data/aelsfznuqw.mp4', '/content/drive/My Drive/Face_only_data/aassnaulhq.mp4', '/content/drive/My Drive/Face_only_data/agplffthuy.mp4', '/content/drive/My Drive/Face_only_data/aeovzefbpr.mp4', '/content/drive/My Drive/Face_only_data/agjxpidzyu.mp4', '/content/drive/My Drive/Face_only_data/aijlttdlrj.mp4', '/content/drive/My Drive/Face_only_data/aeudhfvcvk.mp4', '/content/drive/My Drive/Face_only_data/afqfrfdowg.mp4', '/content/drive/My Drive/Face_only_data/bvpeerislp.mp4', '/content/drive/My Drive/Face_only_data/hmxihwteht.mp4', '/content/drive/My Drive/Face_only_data/gzbagbdubm.mp4', '/content/drive/My Drive/Face_only_data/lyukjvgwoa.mp4', '/content/drive/My Drive/Face_only_data/tcsddvsewk.mp4', '/content/drive/My Drive/Face_only_data/nzbgohmaja.mp4']\n",
            "0\n"
          ]
        }
      ]
    },
    {
      "cell_type": "code",
      "metadata": {
        "id": "CEIygy8uDFXc",
        "colab": {
          "base_uri": "https://localhost:8080/"
        },
        "outputId": "5b90964e-5187-4e72-9906-323c8d1932ad"
      },
      "source": [
        "#to load preprocessod video to memory\n",
        "import json\n",
        "import glob\n",
        "import numpy as np\n",
        "import cv2\n",
        "import copy\n",
        "import random\n",
        "video_files =  glob.glob('/content/drive/My Drive/Face_only_data/*.mp4')\n",
        "random.shuffle(video_files)\n",
        "random.shuffle(video_files)\n",
        "frame_count = []\n",
        "for video_file in video_files:\n",
        "  cap = cv2.VideoCapture(video_file)\n",
        "  if(int(cap.get(cv2.CAP_PROP_FRAME_COUNT))<100):\n",
        "    video_files.remove(video_file)\n",
        "    continue\n",
        "  frame_count.append(int(cap.get(cv2.CAP_PROP_FRAME_COUNT)))\n",
        "print(\"frames are \" , frame_count)\n",
        "print(\"Total no of video: \" , len(frame_count))\n",
        "print('Average frame per video:',np.mean(frame_count))"
      ],
      "execution_count": null,
      "outputs": [
        {
          "output_type": "stream",
          "name": "stdout",
          "text": [
            "frames are  [148, 148, 148, 148, 148, 148, 148, 148, 148, 148, 141, 148, 148, 148, 148, 148, 147]\n",
            "Total no of video:  17\n",
            "Average frame per video: 147.52941176470588\n"
          ]
        }
      ]
    },
    {
      "cell_type": "code",
      "metadata": {
        "id": "OqGXNkqhDKZU"
      },
      "source": [
        "# load the video name and labels from csv\n",
        "import torch\n",
        "import torchvision\n",
        "from torchvision import transforms\n",
        "from torch.utils.data import DataLoader\n",
        "from torch.utils.data.dataset import Dataset\n",
        "import os\n",
        "import numpy as np\n",
        "import cv2\n",
        "import matplotlib.pyplot as plt\n",
        "import face_recognition\n",
        "class video_dataset(Dataset):\n",
        "    def __init__(self,video_names,labels,sequence_length = 60,transform = None):\n",
        "        self.video_names = video_names\n",
        "        self.labels = labels\n",
        "        self.transform = transform\n",
        "        self.count = sequence_length\n",
        "    def __len__(self):\n",
        "        return len(self.video_names)\n",
        "    def __getitem__(self,idx):\n",
        "        video_path = self.video_names[idx]\n",
        "        frames = []\n",
        "        a = int(100/self.count)\n",
        "        first_frame = np.random.randint(0,a)\n",
        "        temp_video = video_path.split('/')[-1]\n",
        "        print(temp_video)\n",
        "        label = self.labels.iloc[(labels.loc[labels[\"file\"] == temp_video].index.values[0]),1]\n",
        "        if(label == 'FAKE'):\n",
        "          label = 0\n",
        "        if(label == 'REAL'):\n",
        "          label = 1\n",
        "        for i,frame in enumerate(self.frame_extract(video_path)):\n",
        "          frames.append(self.transform(frame))\n",
        "          if(len(frames) == self.count):\n",
        "            break\n",
        "        frames = torch.stack(frames)\n",
        "        frames = frames[:self.count]\n",
        "        #print(\"length:\" , len(frames), \"label\",label)\n",
        "        return frames,label\n",
        "    def frame_extract(self,path):\n",
        "      vidObj = cv2.VideoCapture(path)\n",
        "      success = 1\n",
        "      while success:\n",
        "          success, image = vidObj.read()\n",
        "          if success:\n",
        "              yield image\n",
        "#plot the image\n",
        "def im_plot(tensor):\n",
        "    image = tensor.cpu().numpy().transpose(1,2,0)\n",
        "    b,g,r = cv2.split(image)\n",
        "    image = cv2.merge((r,g,b))\n",
        "    image = image*[0.22803, 0.22145, 0.216989] +  [0.43216, 0.394666, 0.37645]\n",
        "    image = image*255.0\n",
        "    plt.imshow(image.astype(int))\n",
        "    plt.show()"
      ],
      "execution_count": null,
      "outputs": []
    },
    {
      "cell_type": "code",
      "metadata": {
        "id": "1leMozhXa5LF"
      },
      "source": [
        "#count the number of fake and real videos\n",
        "def number_of_real_and_fake_videos(data_list):\n",
        "  header_list = [\"file\",\"label\"]\n",
        "  lab = pd.read_csv('/content/drive/My Drive/Gobal_metadata.csv',names=header_list)\n",
        "  fake = 0\n",
        "  real = 0\n",
        "  for i in data_list:\n",
        "    temp_video = i.split('/')[-1]\n",
        "    label = lab.iloc[(labels.loc[labels[\"file\"] == temp_video].index.values[0]),1]\n",
        "    if(label == 'FAKE'):\n",
        "      fake+=1\n",
        "    if(label == 'REAL'):\n",
        "      real+=1\n",
        "  return real,fake"
      ],
      "execution_count": null,
      "outputs": []
    },
    {
      "source": [
        "#collab ai\n",
        "def number_of_real_and_fake_videos(data_list):\n",
        "  fake, real = 0, 0\n",
        "  for i in data_list:\n",
        "    temp_video = i.split('/')[-1]\n",
        "    try:\n",
        "      label = labels.iloc[(labels.loc[labels[\"file\"] == temp_video].index.values[0]),1]\n",
        "    except IndexError as e:\n",
        "      print(f\"Error processing video '{temp_video}': {e}\")\n",
        "      continue\n",
        "    if(label == 'FAKE'):\n",
        "      fake+=1\n",
        "    else:\n",
        "      real+=1\n",
        "  return real, fake"
      ],
      "cell_type": "code",
      "metadata": {
        "id": "T6_H9uiuwYVY"
      },
      "execution_count": null,
      "outputs": []
    },
    {
      "source": [
        "#collab ai\n",
        "real, fake = number_of_real_and_fake_videos(train_videos)\n",
        "print(f\"TRAIN: Real: {real}, Fake: {fake}\")\n",
        "\n",
        "real, fake = number_of_real_and_fake_videos(valid_videos)\n",
        "print(f\"TEST: Real: {real}, Fake: {fake}\")"
      ],
      "cell_type": "code",
      "metadata": {
        "id": "rmcXSQIkwZ-m"
      },
      "execution_count": null,
      "outputs": []
    },
    {
      "source": [
        "#collab ai\n",
        "for i in train_videos:\n",
        "  temp_video = i.split('/')[-1]\n",
        "  try:\n",
        "    label = labels.iloc[(labels.loc[labels[\"file\"] == temp_video].index.values[0]),1]\n",
        "  except IndexError as e:\n",
        "    print(f\"Problematic video: '{temp_video}'\")\n",
        "    break\n",
        "\n",
        "# Investigate the problematic video further (e.g., print its label, check if it exists in the dataset, etc.)"
      ],
      "cell_type": "code",
      "metadata": {
        "colab": {
          "base_uri": "https://localhost:8080/"
        },
        "id": "MobBntxWwaxT",
        "outputId": "42db9450-a32e-4f71-d9c3-c4c2cd29263e"
      },
      "execution_count": null,
      "outputs": [
        {
          "output_type": "stream",
          "name": "stdout",
          "text": [
            "Problematic video: 'aeovzefbpr.mp4'\n"
          ]
        }
      ]
    },
    {
      "cell_type": "code",
      "metadata": {
        "id": "sWMZn0YHDO2b",
        "colab": {
          "base_uri": "https://localhost:8080/",
          "height": 593
        },
        "outputId": "bad32741-26d2-4766-e67b-57099477d531"
      },
      "source": [
        "# load the labels and video in data loader\n",
        "import random\n",
        "import pandas as pd\n",
        "from sklearn.model_selection import train_test_split\n",
        "\n",
        "header_list = [\"file\",\"label\"]\n",
        "labels = pd.read_csv('/content/drive/My Drive/Gobal_metadata.csv',names=header_list)\n",
        "#print(labels)\n",
        "train_videos = video_files[:int(0.8*len(video_files))]\n",
        "valid_videos = video_files[int(0.8*len(video_files)):]\n",
        "print(\"train : \" , len(train_videos))\n",
        "print(\"test : \" , len(valid_videos))\n",
        "# train_videos,valid_videos = train_test_split(data,test_size = 0.2)\n",
        "# print(train_videos)\n",
        "\n",
        "#print(\"TRAIN: \", \"Real:\",number_of_real_and_fake_videos(train_videos)[0],\" Fake:\",number_of_real_and_fake_videos(train_videos)[1])\n",
        "print(\"TRAIN: \", \"Real:\",number_of_real_and_fake_videos(train_videos)[0],\" Fake:\",number_of_real_and_fake_videos(train_videos)[1])\n",
        "print(\"TEST: \", \"Real:\",number_of_real_and_fake_videos(valid_videos)[0],\" Fake:\",number_of_real_and_fake_videos(valid_videos)[1])\n",
        "\n",
        "\n",
        "im_size = 112\n",
        "mean = [0.485, 0.456, 0.406]\n",
        "std = [0.229, 0.224, 0.225]\n",
        "\n",
        "train_transforms = transforms.Compose([\n",
        "                                        transforms.ToPILImage(),\n",
        "                                        transforms.Resize((im_size,im_size)),\n",
        "                                        transforms.ToTensor(),\n",
        "                                        transforms.Normalize(mean,std)])\n",
        "\n",
        "test_transforms = transforms.Compose([\n",
        "                                        transforms.ToPILImage(),\n",
        "                                        transforms.Resize((im_size,im_size)),\n",
        "                                        transforms.ToTensor(),\n",
        "                                        transforms.Normalize(mean,std)])\n",
        "train_data = video_dataset(train_videos,labels,sequence_length = 10,transform = train_transforms)\n",
        "#print(train_data)\n",
        "val_data = video_dataset(valid_videos,labels,sequence_length = 10,transform = train_transforms)\n",
        "train_loader = DataLoader(train_data,batch_size = 4,shuffle = True,num_workers = 4)\n",
        "valid_loader = DataLoader(val_data,batch_size = 4,shuffle = True,num_workers = 4)\n",
        "image,label = train_data[0]\n",
        "im_plot(image[0,:,:,:])"
      ],
      "execution_count": null,
      "outputs": [
        {
          "output_type": "stream",
          "name": "stdout",
          "text": [
            "train :  13\n",
            "test :  4\n",
            "TRAIN:  Real: 5  Fake: 8\n",
            "TEST:  Real: 1  Fake: 3\n",
            "gzbagbdubm.mp4\n"
          ]
        },
        {
          "output_type": "stream",
          "name": "stderr",
          "text": [
            "/usr/local/lib/python3.10/dist-packages/torch/utils/data/dataloader.py:558: UserWarning: This DataLoader will create 4 worker processes in total. Our suggested max number of worker in current system is 2, which is smaller than what this DataLoader is going to create. Please be aware that excessive worker creation might get DataLoader running slow or even freeze, lower the worker number to avoid potential slowness/freeze if necessary.\n",
            "  warnings.warn(_create_warning_msg(\n",
            "WARNING:matplotlib.image:Clipping input data to the valid range for imshow with RGB data ([0..1] for floats or [0..255] for integers).\n"
          ]
        },
        {
          "output_type": "display_data",
          "data": {
            "text/plain": [
              "<Figure size 640x480 with 1 Axes>"
            ],
            "image/png": "[encoded data removed]"
          },
          "metadata": {}
        }
      ]
    },
    {
      "cell_type": "code",
      "metadata": {
        "id": "UtOXSqyBDRnD"
      },
      "source": [
        "#Model with feature visualization\n",
        "from torch import nn\n",
        "from torchvision import models\n",
        "class Model(nn.Module):\n",
        "    def __init__(self, num_classes,latent_dim= 2048, lstm_layers=1 , hidden_dim = 2048, bidirectional = False):\n",
        "        super(Model, self).__init__()\n",
        "        model = models.resnext50_32x4d(pretrained = True) #Residual Network CNN\n",
        "        self.model = nn.Sequential(*list(model.children())[:-2])\n",
        "        self.lstm = nn.LSTM(latent_dim,hidden_dim, lstm_layers,  bidirectional)\n",
        "        self.relu = nn.LeakyReLU()\n",
        "        self.dp = nn.Dropout(0.4)\n",
        "        self.linear1 = nn.Linear(2048,num_classes)\n",
        "        self.avgpool = nn.AdaptiveAvgPool2d(1)\n",
        "    def forward(self, x):\n",
        "        batch_size,seq_length, c, h, w = x.shape\n",
        "        x = x.view(batch_size * seq_length, c, h, w)\n",
        "        fmap = self.model(x)\n",
        "        x = self.avgpool(fmap)\n",
        "        x = x.view(batch_size,seq_length,2048)\n",
        "        x_lstm,_ = self.lstm(x,None)\n",
        "        return fmap,self.dp(self.linear1(torch.mean(x_lstm,dim = 1)))"
      ],
      "execution_count": null,
      "outputs": []
    },
    {
      "cell_type": "code",
      "metadata": {
        "id": "WYNhn10tDV90",
        "colab": {
          "base_uri": "https://localhost:8080/"
        },
        "outputId": "30a4329c-79e4-493a-ee9f-ab0298a4196e"
      },
      "source": [
        "model = Model(2).cuda()\n",
        "a,b = model(torch.from_numpy(np.empty((1,20,3,112,112))).type(torch.cuda.FloatTensor))"
      ],
      "execution_count": null,
      "outputs": [
        {
          "output_type": "stream",
          "name": "stderr",
          "text": [
            "/usr/local/lib/python3.10/dist-packages/torchvision/models/_utils.py:208: UserWarning: The parameter 'pretrained' is deprecated since 0.13 and may be removed in the future, please use 'weights' instead.\n",
            "  warnings.warn(\n",
            "/usr/local/lib/python3.10/dist-packages/torchvision/models/_utils.py:223: UserWarning: Arguments other than a weight enum or `None` for 'weights' are deprecated since 0.13 and may be removed in the future. The current behavior is equivalent to passing `weights=ResNeXt50_32X4D_Weights.IMAGENET1K_V1`. You can also use `weights=ResNeXt50_32X4D_Weights.DEFAULT` to get the most up-to-date weights.\n",
            "  warnings.warn(msg)\n"
          ]
        }
      ]
    },
    {
      "cell_type": "code",
      "metadata": {
        "id": "FKheLUWBDaNN"
      },
      "source": [
        "import torch\n",
        "from torch.autograd import Variable\n",
        "import time\n",
        "import os\n",
        "import sys\n",
        "import os\n",
        "def train_epoch(epoch, num_epochs, data_loader, model, criterion, optimizer):\n",
        "    model.train()\n",
        "    losses = AverageMeter()\n",
        "    accuracies = AverageMeter()\n",
        "    t = []\n",
        "    for i, (inputs, targets) in enumerate(data_loader):\n",
        "        if torch.cuda.is_available():\n",
        "            targets = targets.type(torch.cuda.LongTensor)\n",
        "            inputs = inputs.cuda()\n",
        "        _,outputs = model(inputs)\n",
        "        loss  = criterion(outputs,targets.type(torch.cuda.LongTensor))\n",
        "        acc = calculate_accuracy(outputs, targets.type(torch.cuda.LongTensor))\n",
        "        losses.update(loss.item(), inputs.size(0))\n",
        "        accuracies.update(acc, inputs.size(0))\n",
        "        optimizer.zero_grad()\n",
        "        loss.backward()\n",
        "        optimizer.step()\n",
        "        sys.stdout.write(\n",
        "                \"\\r[Epoch %d/%d] [Batch %d / %d] [Loss: %f, Acc: %.2f%%]\"\n",
        "                % (\n",
        "                    epoch,\n",
        "                    num_epochs,\n",
        "                    i,\n",
        "                    len(data_loader),\n",
        "                    losses.avg,\n",
        "                    accuracies.avg))\n",
        "    torch.save(model.state_dict(),'/content/checkpoint.pt')\n",
        "    return losses.avg,accuracies.avg\n",
        "def test(epoch,model, data_loader ,criterion):\n",
        "    print('Testing')\n",
        "    model.eval()\n",
        "    losses = AverageMeter()\n",
        "    accuracies = AverageMeter()\n",
        "    pred = []\n",
        "    true = []\n",
        "    count = 0\n",
        "    with torch.no_grad():\n",
        "        for i, (inputs, targets) in enumerate(data_loader):\n",
        "            if torch.cuda.is_available():\n",
        "                targets = targets.cuda().type(torch.cuda.FloatTensor)\n",
        "                inputs = inputs.cuda()\n",
        "            _,outputs = model(inputs)\n",
        "            loss = torch.mean(criterion(outputs, targets.type(torch.cuda.LongTensor)))\n",
        "            acc = calculate_accuracy(outputs,targets.type(torch.cuda.LongTensor))\n",
        "            _,p = torch.max(outputs,1)\n",
        "            true += (targets.type(torch.cuda.LongTensor)).detach().cpu().numpy().reshape(len(targets)).tolist()\n",
        "            pred += p.detach().cpu().numpy().reshape(len(p)).tolist()\n",
        "            losses.update(loss.item(), inputs.size(0))\n",
        "            accuracies.update(acc, inputs.size(0))\n",
        "            sys.stdout.write(\n",
        "                    \"\\r[Batch %d / %d]  [Loss: %f, Acc: %.2f%%]\"\n",
        "                    % (\n",
        "                        i,\n",
        "                        len(data_loader),\n",
        "                        losses.avg,\n",
        "                        accuracies.avg\n",
        "                        )\n",
        "                    )\n",
        "        print('\\nAccuracy {}'.format(accuracies.avg))\n",
        "    return true,pred,losses.avg,accuracies.avg\n",
        "class AverageMeter(object):\n",
        "    \"\"\"Computes and stores the average and current value\"\"\"\n",
        "    def __init__(self):\n",
        "        self.reset()\n",
        "    def reset(self):\n",
        "        self.val = 0\n",
        "        self.avg = 0\n",
        "        self.sum = 0\n",
        "        self.count = 0\n",
        "\n",
        "    def update(self, val, n=1):\n",
        "        self.val = val\n",
        "        self.sum += val * n\n",
        "        self.count += n\n",
        "        self.avg = self.sum / self.count\n",
        "def calculate_accuracy(outputs, targets):\n",
        "    batch_size = targets.size(0)\n",
        "\n",
        "    _, pred = outputs.topk(1, 1, True)\n",
        "    pred = pred.t()\n",
        "    correct = pred.eq(targets.view(1, -1))\n",
        "    n_correct_elems = correct.float().sum().item()\n",
        "    return 100* n_correct_elems / batch_size"
      ],
      "execution_count": null,
      "outputs": []
    },
    {
      "cell_type": "code",
      "metadata": {
        "id": "b8WneBZNfysN"
      },
      "source": [
        "import seaborn as sn\n",
        "#Output confusion matrix\n",
        "def print_confusion_matrix(y_true, y_pred):\n",
        "    cm = confusion_matrix(y_true, y_pred)\n",
        "    print('True positive = ', cm[0][0])\n",
        "    print('False positive = ', cm[0][1])\n",
        "    print('False negative = ', cm[1][0])\n",
        "    print('True negative = ', cm[1][1])\n",
        "    print('\\n')\n",
        "    df_cm = pd.DataFrame(cm, range(2), range(2))\n",
        "    sn.set(font_scale=1.4) # for label size\n",
        "    sn.heatmap(df_cm, annot=True, annot_kws={\"size\": 16}) # font size\n",
        "    plt.ylabel('Actual label', size = 20)\n",
        "    plt.xlabel('Predicted label', size = 20)\n",
        "    plt.xticks(np.arange(2), ['Fake', 'Real'], size = 16)\n",
        "    plt.yticks(np.arange(2), ['Fake', 'Real'], size = 16)\n",
        "    plt.ylim([2, 0])\n",
        "    plt.show()\n",
        "    calculated_acc = (cm[0][0]+cm[1][1])/(cm[0][0]+cm[0][1]+cm[1][0]+ cm[1][1])\n",
        "    print(\"Calculated Accuracy\",calculated_acc*100)"
      ],
      "execution_count": null,
      "outputs": []
    },
    {
      "cell_type": "code",
      "metadata": {
        "id": "fExJLjt2AtV9"
      },
      "source": [
        "def plot_loss(train_loss_avg,test_loss_avg,num_epochs):\n",
        "  loss_train = train_loss_avg\n",
        "  loss_val = test_loss_avg\n",
        "  print(num_epochs)\n",
        "  epochs = range(1,num_epochs+1)\n",
        "  plt.plot(epochs, loss_train, 'g', label='Training loss')\n",
        "  plt.plot(epochs, loss_val, 'b', label='validation loss')\n",
        "  plt.title('Training and Validation loss')\n",
        "  plt.xlabel('Epochs')\n",
        "  plt.ylabel('Loss')\n",
        "  plt.legend()\n",
        "  plt.show()\n",
        "def plot_accuracy(train_accuracy,test_accuracy,num_epochs):\n",
        "  loss_train = train_accuracy\n",
        "  loss_val = test_accuracy\n",
        "  epochs = range(1,num_epochs+1)\n",
        "  plt.plot(epochs, loss_train, 'g', label='Training accuracy')\n",
        "  plt.plot(epochs, loss_val, 'b', label='validation accuracy')\n",
        "  plt.title('Training and Validation accuracy')\n",
        "  plt.xlabel('Epochs')\n",
        "  plt.ylabel('Accuracy')\n",
        "  plt.legend()\n",
        "  plt.show()"
      ],
      "execution_count": null,
      "outputs": []
    },
    {
      "cell_type": "code",
      "metadata": {
        "id": "rUe1XrYnDdit",
        "colab": {
          "base_uri": "https://localhost:8080/",
          "height": 1000
        },
        "outputId": "d5f2b900-a122-459f-f9c2-f6beec76259b"
      },
      "source": [
        "from sklearn.metrics import confusion_matrix\n",
        "#learning rate\n",
        "lr = 1e-5 #0.001\n",
        "#number of epochs\n",
        "num_epochs = 20\n",
        "\n",
        "optimizer = torch.optim.Adam(model.parameters(), lr= lr,weight_decay = 1e-5)\n",
        "\n",
        "#class_weights = torch.from_numpy(np.asarray([1,15])).type(torch.FloatTensor).cuda()\n",
        "#criterion = nn.CrossEntropyLoss(weight = class_weights).cuda()\n",
        "criterion = nn.CrossEntropyLoss().cuda()\n",
        "train_loss_avg =[]\n",
        "train_accuracy = []\n",
        "test_loss_avg = []\n",
        "test_accuracy = []\n",
        "for epoch in range(1,num_epochs+1):\n",
        "    l, acc = train_epoch(epoch,num_epochs,train_loader,model,criterion,optimizer)\n",
        "    train_loss_avg.append(l)\n",
        "    train_accuracy.append(acc)\n",
        "    true,pred,tl,t_acc = test(epoch,model,valid_loader,criterion)\n",
        "    test_loss_avg.append(tl)\n",
        "    test_accuracy.append(t_acc)\n",
        "plot_loss(train_loss_avg,test_loss_avg,len(train_loss_avg))\n",
        "plot_accuracy(train_accuracy,test_accuracy,len(train_accuracy))\n",
        "print(confusion_matrix(true,pred))\n",
        "print_confusion_matrix(true,pred)"
      ],
      "execution_count": null,
      "outputs": [
        {
          "output_type": "stream",
          "name": "stdout",
          "text": [
            "aassnaulhq.mp4aeudhfvcvk.mp4\n",
            "agplffthuy.mp4\n",
            "abxtkdjyru.mp4\n",
            "\n",
            "gzbagbdubm.mp4\n",
            "afqfrfdowg.mp4\n",
            "adwbthsgqb.mp4aelsfznuqw.mp4\n",
            "\n",
            "acljesxipy.mp4lyukjvgwoa.mp4\n",
            "\n",
            "hmxihwteht.mp4\n",
            "tcsddvsewk.mp4nzbgohmaja.mp4\n",
            "\n",
            "[Epoch 1/20] [Batch 3 / 4] [Loss: 0.692648, Acc: 53.85%]Testing\n",
            "bvpeerislp.mp4\n",
            "abebnhqyzv.mp4\n",
            "agjxpidzyu.mp4\n",
            "aijlttdlrj.mp4\n",
            "[Batch 0 / 1]  [Loss: 0.655257, Acc: 75.00%]\n",
            "Accuracy 75.0\n",
            "afqfrfdowg.mp4acljesxipy.mp4aeudhfvcvk.mp4\n",
            "\n",
            "\n",
            "adwbthsgqb.mp4\n",
            "nzbgohmaja.mp4\n",
            "aelsfznuqw.mp4\n",
            "hmxihwteht.mp4lyukjvgwoa.mp4\n",
            "\n",
            "abxtkdjyru.mp4gzbagbdubm.mp4\n",
            "\n",
            "agplffthuy.mp4\n",
            "aassnaulhq.mp4\n",
            "tcsddvsewk.mp4\n",
            "[Epoch 2/20] [Batch 3 / 4] [Loss: 0.697065, Acc: 61.54%]Testing\n",
            "aijlttdlrj.mp4\n",
            "bvpeerislp.mp4\n",
            "agjxpidzyu.mp4\n",
            "abebnhqyzv.mp4\n",
            "[Batch 0 / 1]  [Loss: 0.655718, Acc: 75.00%]\n",
            "Accuracy 75.0\n",
            "aeudhfvcvk.mp4\n",
            "adwbthsgqb.mp4afqfrfdowg.mp4lyukjvgwoa.mp4\n",
            "\n",
            "\n",
            "nzbgohmaja.mp4\n",
            "agplffthuy.mp4abxtkdjyru.mp4\n",
            "\n",
            "gzbagbdubm.mp4\n",
            "acljesxipy.mp4\n",
            "aelsfznuqw.mp4hmxihwteht.mp4\n",
            "\n",
            "tcsddvsewk.mp4\n",
            "aassnaulhq.mp4\n",
            "[Epoch 3/20] [Batch 3 / 4] [Loss: 0.633587, Acc: 61.54%]Testing\n",
            "agjxpidzyu.mp4\n",
            "aijlttdlrj.mp4\n",
            "abebnhqyzv.mp4\n",
            "bvpeerislp.mp4\n",
            "[Batch 0 / 1]  [Loss: 0.637876, Acc: 75.00%]\n",
            "Accuracy 75.0\n",
            "aelsfznuqw.mp4agplffthuy.mp4adwbthsgqb.mp4\n",
            "\n",
            "abxtkdjyru.mp4\n",
            "\n",
            "acljesxipy.mp4aassnaulhq.mp4\n",
            "\n",
            "afqfrfdowg.mp4hmxihwteht.mp4\n",
            "\n",
            "gzbagbdubm.mp4nzbgohmaja.mp4aeudhfvcvk.mp4\n",
            "\n",
            "\n",
            "tcsddvsewk.mp4\n",
            "lyukjvgwoa.mp4\n",
            "[Epoch 4/20] [Batch 3 / 4] [Loss: 0.636710, Acc: 61.54%]Testing\n",
            "abebnhqyzv.mp4\n",
            "agjxpidzyu.mp4\n",
            "bvpeerislp.mp4\n",
            "aijlttdlrj.mp4\n",
            "[Batch 0 / 1]  [Loss: 0.637326, Acc: 75.00%]\n",
            "Accuracy 75.0\n",
            "lyukjvgwoa.mp4\n",
            "hmxihwteht.mp4aeudhfvcvk.mp4\n",
            "abxtkdjyru.mp4\n",
            "\n",
            "acljesxipy.mp4agplffthuy.mp4\n",
            "nzbgohmaja.mp4\n",
            "\n",
            "aassnaulhq.mp4afqfrfdowg.mp4\n",
            "aelsfznuqw.mp4\n",
            "\n",
            "adwbthsgqb.mp4\n",
            "tcsddvsewk.mp4\n",
            "gzbagbdubm.mp4\n",
            "[Epoch 5/20] [Batch 3 / 4] [Loss: 0.655783, Acc: 61.54%]Testing\n",
            "abebnhqyzv.mp4\n",
            "agjxpidzyu.mp4\n",
            "bvpeerislp.mp4\n",
            "aijlttdlrj.mp4\n",
            "[Batch 0 / 1]  [Loss: 0.627423, Acc: 75.00%]\n",
            "Accuracy 75.0\n",
            "gzbagbdubm.mp4lyukjvgwoa.mp4\n",
            "hmxihwteht.mp4agplffthuy.mp4\n",
            "\n",
            "\n",
            "acljesxipy.mp4\n",
            "aelsfznuqw.mp4\n",
            "adwbthsgqb.mp4\n",
            "aassnaulhq.mp4aeudhfvcvk.mp4\n",
            "afqfrfdowg.mp4\n",
            "\n",
            "abxtkdjyru.mp4\n",
            "nzbgohmaja.mp4tcsddvsewk.mp4\n",
            "\n",
            "[Epoch 6/20] [Batch 3 / 4] [Loss: 0.586508, Acc: 61.54%]Testing\n",
            "agjxpidzyu.mp4\n",
            "bvpeerislp.mp4\n",
            "aijlttdlrj.mp4\n",
            "abebnhqyzv.mp4\n",
            "[Batch 0 / 1]  [Loss: 0.617083, Acc: 75.00%]\n",
            "Accuracy 75.0\n",
            "acljesxipy.mp4abxtkdjyru.mp4\n",
            "\n",
            "lyukjvgwoa.mp4gzbagbdubm.mp4\n",
            "\n",
            "aassnaulhq.mp4\n",
            "aelsfznuqw.mp4\n",
            "hmxihwteht.mp4aeudhfvcvk.mp4\n",
            "\n",
            "afqfrfdowg.mp4nzbgohmaja.mp4agplffthuy.mp4\n",
            "\n",
            "\n",
            "adwbthsgqb.mp4\n",
            "tcsddvsewk.mp4\n",
            "[Epoch 7/20] [Batch 3 / 4] [Loss: 0.563631, Acc: 61.54%]Testing\n",
            "bvpeerislp.mp4\n",
            "aijlttdlrj.mp4\n",
            "abebnhqyzv.mp4\n",
            "agjxpidzyu.mp4\n",
            "[Batch 0 / 1]  [Loss: 0.570057, Acc: 75.00%]\n",
            "Accuracy 75.0\n",
            "aelsfznuqw.mp4\n",
            "agplffthuy.mp4aeudhfvcvk.mp4\n",
            "afqfrfdowg.mp4\n",
            "\n",
            "tcsddvsewk.mp4\n",
            "acljesxipy.mp4gzbagbdubm.mp4\n",
            "lyukjvgwoa.mp4\n",
            "\n",
            "abxtkdjyru.mp4\n",
            "hmxihwteht.mp4\n",
            "adwbthsgqb.mp4nzbgohmaja.mp4\n",
            "\n",
            "aassnaulhq.mp4\n",
            "[Epoch 8/20] [Batch 3 / 4] [Loss: 0.642254, Acc: 69.23%]Testing\n",
            "aijlttdlrj.mp4\n",
            "bvpeerislp.mp4\n",
            "abebnhqyzv.mp4\n",
            "agjxpidzyu.mp4\n",
            "[Batch 0 / 1]  [Loss: 0.602045, Acc: 75.00%]\n",
            "Accuracy 75.0\n",
            "aassnaulhq.mp4acljesxipy.mp4\n",
            "tcsddvsewk.mp4\n",
            "aeudhfvcvk.mp4\n",
            "\n",
            "aelsfznuqw.mp4\n",
            "gzbagbdubm.mp4\n",
            "adwbthsgqb.mp4nzbgohmaja.mp4abxtkdjyru.mp4\n",
            "\n",
            "\n",
            "agplffthuy.mp4lyukjvgwoa.mp4\n",
            "\n",
            "hmxihwteht.mp4\n",
            "afqfrfdowg.mp4\n",
            "[Epoch 9/20] [Batch 3 / 4] [Loss: 0.529607, Acc: 84.62%]Testing\n",
            "bvpeerislp.mp4\n",
            "abebnhqyzv.mp4\n",
            "agjxpidzyu.mp4\n",
            "aijlttdlrj.mp4\n",
            "[Batch 0 / 1]  [Loss: 0.562430, Acc: 75.00%]\n",
            "Accuracy 75.0\n",
            "tcsddvsewk.mp4\n",
            "aelsfznuqw.mp4hmxihwteht.mp4\n",
            "\n",
            "acljesxipy.mp4aeudhfvcvk.mp4\n",
            "\n",
            "gzbagbdubm.mp4adwbthsgqb.mp4\n",
            "\n",
            "lyukjvgwoa.mp4\n",
            "nzbgohmaja.mp4afqfrfdowg.mp4\n",
            "\n",
            "agplffthuy.mp4\n",
            "aassnaulhq.mp4\n",
            "abxtkdjyru.mp4\n",
            "[Epoch 10/20] [Batch 3 / 4] [Loss: 0.522048, Acc: 84.62%]Testing\n",
            "agjxpidzyu.mp4\n",
            "abebnhqyzv.mp4\n",
            "bvpeerislp.mp4\n",
            "aijlttdlrj.mp4\n",
            "[Batch 0 / 1]  [Loss: 0.579311, Acc: 75.00%]\n",
            "Accuracy 75.0\n",
            "gzbagbdubm.mp4\n",
            "aassnaulhq.mp4abxtkdjyru.mp4\n",
            "\n",
            "aeudhfvcvk.mp4tcsddvsewk.mp4\n",
            "\n",
            "nzbgohmaja.mp4\n",
            "lyukjvgwoa.mp4hmxihwteht.mp4\n",
            "agplffthuy.mp4\n",
            "\n",
            "adwbthsgqb.mp4aelsfznuqw.mp4\n",
            "\n",
            "afqfrfdowg.mp4\n",
            "acljesxipy.mp4\n",
            "[Epoch 11/20] [Batch 3 / 4] [Loss: 0.531766, Acc: 84.62%]Testing\n",
            "abebnhqyzv.mp4\n",
            "aijlttdlrj.mp4\n",
            "agjxpidzyu.mp4\n",
            "bvpeerislp.mp4\n",
            "[Batch 0 / 1]  [Loss: 0.567521, Acc: 75.00%]\n",
            "Accuracy 75.0\n",
            "aelsfznuqw.mp4gzbagbdubm.mp4abxtkdjyru.mp4\n",
            "\n",
            "\n",
            "hmxihwteht.mp4\n",
            "aeudhfvcvk.mp4aassnaulhq.mp4\n",
            "\n",
            "nzbgohmaja.mp4\n",
            "acljesxipy.mp4afqfrfdowg.mp4lyukjvgwoa.mp4\n",
            "\n",
            "\n",
            "adwbthsgqb.mp4tcsddvsewk.mp4\n",
            "agplffthuy.mp4\n",
            "\n",
            "[Epoch 12/20] [Batch 3 / 4] [Loss: 0.511561, Acc: 69.23%]Testing\n",
            "bvpeerislp.mp4\n",
            "agjxpidzyu.mp4\n",
            "abebnhqyzv.mp4\n",
            "aijlttdlrj.mp4\n",
            "[Batch 0 / 1]  [Loss: 0.494302, Acc: 75.00%]\n",
            "Accuracy 75.0\n",
            "agplffthuy.mp4gzbagbdubm.mp4aelsfznuqw.mp4\n",
            "\n",
            "\n",
            "aeudhfvcvk.mp4\n",
            "adwbthsgqb.mp4\n",
            "aassnaulhq.mp4\n",
            "acljesxipy.mp4\n",
            "hmxihwteht.mp4\n",
            "afqfrfdowg.mp4\n",
            "abxtkdjyru.mp4\n",
            "nzbgohmaja.mp4\n",
            "lyukjvgwoa.mp4tcsddvsewk.mp4\n",
            "\n",
            "[Epoch 13/20] [Batch 3 / 4] [Loss: 0.474562, Acc: 76.92%]Testing\n",
            "bvpeerislp.mp4\n",
            "agjxpidzyu.mp4\n",
            "aijlttdlrj.mp4\n",
            "abebnhqyzv.mp4\n",
            "[Batch 0 / 1]  [Loss: 0.488520, Acc: 75.00%]\n",
            "Accuracy 75.0\n",
            "hmxihwteht.mp4aelsfznuqw.mp4aassnaulhq.mp4\n",
            "\n",
            "lyukjvgwoa.mp4\n",
            "\n",
            "nzbgohmaja.mp4\n",
            "acljesxipy.mp4\n",
            "tcsddvsewk.mp4\n",
            "agplffthuy.mp4aeudhfvcvk.mp4\n",
            "\n",
            "gzbagbdubm.mp4\n",
            "adwbthsgqb.mp4\n",
            "abxtkdjyru.mp4\n",
            "afqfrfdowg.mp4\n",
            "[Epoch 14/20] [Batch 3 / 4] [Loss: 0.490445, Acc: 76.92%]Testing\n",
            "aijlttdlrj.mp4\n",
            "bvpeerislp.mp4\n",
            "abebnhqyzv.mp4\n",
            "agjxpidzyu.mp4\n",
            "[Batch 0 / 1]  [Loss: 0.523901, Acc: 75.00%]\n",
            "Accuracy 75.0\n",
            "abxtkdjyru.mp4lyukjvgwoa.mp4\n",
            "\n",
            "tcsddvsewk.mp4adwbthsgqb.mp4\n",
            "\n",
            "nzbgohmaja.mp4\n",
            "aassnaulhq.mp4acljesxipy.mp4\n",
            "\n",
            "aelsfznuqw.mp4\n",
            "afqfrfdowg.mp4aeudhfvcvk.mp4\n",
            "\n",
            "agplffthuy.mp4gzbagbdubm.mp4\n",
            "hmxihwteht.mp4\n",
            "\n",
            "[Epoch 15/20] [Batch 3 / 4] [Loss: 0.575758, Acc: 69.23%]Testing\n",
            "bvpeerislp.mp4\n",
            "abebnhqyzv.mp4\n",
            "agjxpidzyu.mp4\n",
            "aijlttdlrj.mp4\n",
            "[Batch 0 / 1]  [Loss: 0.491611, Acc: 75.00%]\n",
            "Accuracy 75.0\n",
            "lyukjvgwoa.mp4\n",
            "aeudhfvcvk.mp4acljesxipy.mp4\n",
            "tcsddvsewk.mp4\n",
            "\n",
            "nzbgohmaja.mp4\n",
            "afqfrfdowg.mp4\n",
            "abxtkdjyru.mp4\n",
            "adwbthsgqb.mp4\n",
            "aelsfznuqw.mp4aassnaulhq.mp4\n",
            "hmxihwteht.mp4\n",
            "\n",
            "agplffthuy.mp4gzbagbdubm.mp4\n",
            "\n",
            "[Epoch 16/20] [Batch 3 / 4] [Loss: 0.497578, Acc: 84.62%]Testing\n",
            "aijlttdlrj.mp4\n",
            "bvpeerislp.mp4\n",
            "agjxpidzyu.mp4\n",
            "abebnhqyzv.mp4\n",
            "[Batch 0 / 1]  [Loss: 0.519851, Acc: 75.00%]\n",
            "Accuracy 75.0\n",
            "afqfrfdowg.mp4\n",
            "tcsddvsewk.mp4lyukjvgwoa.mp4\n",
            "adwbthsgqb.mp4\n",
            "\n",
            "nzbgohmaja.mp4\n",
            "aassnaulhq.mp4\n",
            "abxtkdjyru.mp4\n",
            "gzbagbdubm.mp4aeudhfvcvk.mp4\n",
            "\n",
            "agplffthuy.mp4\n",
            "hmxihwteht.mp4\n",
            "aelsfznuqw.mp4\n",
            "acljesxipy.mp4\n",
            "[Epoch 17/20] [Batch 3 / 4] [Loss: 0.470540, Acc: 92.31%]Testing\n",
            "bvpeerislp.mp4\n",
            "abebnhqyzv.mp4\n",
            "agjxpidzyu.mp4\n",
            "aijlttdlrj.mp4\n",
            "[Batch 0 / 1]  [Loss: 0.538770, Acc: 75.00%]\n",
            "Accuracy 75.0\n",
            "abxtkdjyru.mp4nzbgohmaja.mp4\n",
            "lyukjvgwoa.mp4\n",
            "\n",
            "agplffthuy.mp4\n",
            "aassnaulhq.mp4\n",
            "aeudhfvcvk.mp4\n",
            "aelsfznuqw.mp4\n",
            "gzbagbdubm.mp4\n",
            "hmxihwteht.mp4afqfrfdowg.mp4\n",
            "\n",
            "adwbthsgqb.mp4\n",
            "tcsddvsewk.mp4acljesxipy.mp4\n",
            "\n",
            "[Epoch 18/20] [Batch 3 / 4] [Loss: 0.472951, Acc: 84.62%]Testing\n",
            "abebnhqyzv.mp4\n",
            "agjxpidzyu.mp4\n",
            "bvpeerislp.mp4\n",
            "aijlttdlrj.mp4\n",
            "[Batch 0 / 1]  [Loss: 0.599683, Acc: 75.00%]\n",
            "Accuracy 75.0\n",
            "acljesxipy.mp4hmxihwteht.mp4nzbgohmaja.mp4\n",
            "\n",
            "afqfrfdowg.mp4\n",
            "\n",
            "lyukjvgwoa.mp4\n",
            "abxtkdjyru.mp4\n",
            "agplffthuy.mp4\n",
            "tcsddvsewk.mp4\n",
            "aeudhfvcvk.mp4gzbagbdubm.mp4\n",
            "\n",
            "adwbthsgqb.mp4\n",
            "aassnaulhq.mp4\n",
            "aelsfznuqw.mp4\n",
            "[Epoch 19/20] [Batch 3 / 4] [Loss: 0.450815, Acc: 92.31%]Testing\n",
            "agjxpidzyu.mp4\n",
            "bvpeerislp.mp4\n",
            "aijlttdlrj.mp4\n",
            "abebnhqyzv.mp4\n",
            "[Batch 0 / 1]  [Loss: 0.600584, Acc: 75.00%]\n",
            "Accuracy 75.0\n",
            "agplffthuy.mp4aelsfznuqw.mp4\n",
            "\n",
            "adwbthsgqb.mp4aeudhfvcvk.mp4\n",
            "\n",
            "abxtkdjyru.mp4aassnaulhq.mp4\n",
            "gzbagbdubm.mp4\n",
            "\n",
            "nzbgohmaja.mp4acljesxipy.mp4\n",
            "\n",
            "tcsddvsewk.mp4\n",
            "lyukjvgwoa.mp4\n",
            "hmxihwteht.mp4\n",
            "afqfrfdowg.mp4\n",
            "[Epoch 20/20] [Batch 3 / 4] [Loss: 0.504018, Acc: 92.31%]Testing\n",
            "abebnhqyzv.mp4\n",
            "agjxpidzyu.mp4\n",
            "aijlttdlrj.mp4\n",
            "bvpeerislp.mp4\n",
            "[Batch 0 / 1]  [Loss: 0.490781, Acc: 75.00%]\n",
            "Accuracy 75.0\n",
            "20\n"
          ]
        },
        {
          "output_type": "display_data",
          "data": {
            "text/plain": [
              "<Figure size 640x480 with 1 Axes>"
            ],
            "image/png": "[encoded data removed]"
          },
          "metadata": {}
        },
        {
          "output_type": "display_data",
          "data": {
            "text/plain": [
              "<Figure size 640x480 with 1 Axes>"
            ],
            "image/png": "[encoded data removed]"
          },
          "metadata": {}
        },
        {
          "output_type": "stream",
          "name": "stdout",
          "text": [
            "[[3 0]\n",
            " [1 0]]\n",
            "True positive =  3\n",
            "False positive =  0\n",
            "False negative =  1\n",
            "True negative =  0\n",
            "\n",
            "\n"
          ]
        },
        {
          "output_type": "display_data",
          "data": {
            "text/plain": [
              "<Figure size 640x480 with 2 Axes>"
            ],
            "image/png": "[encoded data removed]"
          },
          "metadata": {}
        },
        {
          "output_type": "stream",
          "name": "stdout",
          "text": [
            "Calculated Accuracy 75.0\n"
          ]
        }
      ]
    },
    {
      "source": [
        "!pip install pandas"
      ],
      "cell_type": "code",
      "metadata": {
        "colab": {
          "base_uri": "https://localhost:8080/"
        },
        "id": "zfD9R-gHzVad",
        "outputId": "10890586-6ea1-408d-a48a-8febdf8d82b3"
      },
      "execution_count": null,
      "outputs": [
        {
          "output_type": "stream",
          "name": "stdout",
          "text": [
            "Requirement already satisfied: pandas in /usr/local/lib/python3.10/dist-packages (1.5.3)\n",
            "Requirement already satisfied: python-dateutil>=2.8.1 in /usr/local/lib/python3.10/dist-packages (from pandas) (2.8.2)\n",
            "Requirement already satisfied: pytz>=2020.1 in /usr/local/lib/python3.10/dist-packages (from pandas) (2023.4)\n",
            "Requirement already satisfied: numpy>=1.21.0 in /usr/local/lib/python3.10/dist-packages (from pandas) (1.25.2)\n",
            "Requirement already satisfied: six>=1.5 in /usr/local/lib/python3.10/dist-packages (from python-dateutil>=2.8.1->pandas) (1.16.0)\n"
          ]
        }
      ]
    },
    {
      "source": [
        "import pandas as pd"
      ],
      "cell_type": "code",
      "metadata": {
        "id": "X5UrLr3zzWTi"
      },
      "execution_count": null,
      "outputs": []
    },
    {
      "source": [
        "print(labels.head())"
      ],
      "cell_type": "code",
      "metadata": {
        "colab": {
          "base_uri": "https://localhost:8080/"
        },
        "id": "jYVRXmBezXZw",
        "outputId": "c19358ae-f463-4155-8982-98508edf1687"
      },
      "execution_count": null,
      "outputs": [
        {
          "output_type": "stream",
          "name": "stdout",
          "text": [
            "          file label\n",
            "0      000.mp4  REAL\n",
            "1  000_003.mp4  FAKE\n",
            "2      001.mp4  REAL\n",
            "3  001_870.mp4  FAKE\n",
            "4      002.mp4  REAL\n"
          ]
        }
      ]
    },
    {
      "source": [
        "print(len(labels))"
      ],
      "cell_type": "code",
      "metadata": {
        "colab": {
          "base_uri": "https://localhost:8080/"
        },
        "id": "4T-uwFoNzYRE",
        "outputId": "d8e207e2-5d5d-4bda-8a92-693199d38be3"
      },
      "execution_count": null,
      "outputs": [
        {
          "output_type": "stream",
          "name": "stdout",
          "text": [
            "23186\n"
          ]
        }
      ]
    },
    {
      "source": [
        "def __getitem__(self, idx):\n",
        "    # ...\n",
        "    label = self.labels.iloc[(labels.loc[labels[\"file\"] == temp_video].index.values[0]),1]\n",
        "    # ..."
      ],
      "cell_type": "code",
      "metadata": {
        "id": "uG6018n_zY6f"
      },
      "execution_count": null,
      "outputs": []
    },
    {
      "source": [
        "# Load the labels data into the DataFrame\n",
        "labels = pd.read_csv(\"/content/drive/MyDrive/Gobal_metadata.csv\")\n",
        "\n",
        "# ..."
      ],
      "cell_type": "code",
      "metadata": {
        "id": "zvbAAZ0fznGT"
      },
      "execution_count": null,
      "outputs": []
    }
  ]
}